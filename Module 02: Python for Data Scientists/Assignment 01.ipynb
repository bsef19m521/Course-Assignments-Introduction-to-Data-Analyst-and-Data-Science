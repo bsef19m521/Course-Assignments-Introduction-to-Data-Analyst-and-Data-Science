{
 "cells": [
  {
   "cell_type": "markdown",
   "id": "b230fc2a",
   "metadata": {},
   "source": [
    "Write your asnwers according to your concepts and after solving this assignment, submit this notebook in google classroom. Mention User name like this **M2: Assignment 01 (Name)**\n",
    "\n"
   ]
  },
  {
   "cell_type": "code",
   "execution_count": null,
   "id": "118fae4f",
   "metadata": {},
   "outputs": [],
   "source": []
  },
  {
   "cell_type": "markdown",
   "id": "577f028e",
   "metadata": {},
   "source": [
    "## Question 01:\n",
    "Create a 3-D Array of random integers. From that array  get `2nd row` and print all the rows of 2nd row.Then print maximum values present in all the rows of `2nd row` in 3-D Array and store that result in a list. "
   ]
  },
  {
   "cell_type": "code",
   "execution_count": 1,
   "id": "1035b98f",
   "metadata": {},
   "outputs": [],
   "source": [
    "# Here write your answer"
   ]
  },
  {
   "cell_type": "code",
   "execution_count": null,
   "id": "6e7ca9f9",
   "metadata": {},
   "outputs": [],
   "source": []
  },
  {
   "cell_type": "markdown",
   "id": "4ea83ec8",
   "metadata": {},
   "source": [
    "## Question 02:  \n",
    "Create a array of 100 evenly spaced integers between 10-30(inclusive), convert that array into a list using built-in function. From the list, compute all `unique` elements and their `counts` using selection and repetition structures. After that, create a dictionary in which keys are unique elements and values are their counts."
   ]
  },
  {
   "cell_type": "code",
   "execution_count": 2,
   "id": "b5b54ba3",
   "metadata": {},
   "outputs": [],
   "source": [
    "# Here write your answer"
   ]
  },
  {
   "cell_type": "code",
   "execution_count": null,
   "id": "7125e306",
   "metadata": {},
   "outputs": [],
   "source": []
  },
  {
   "cell_type": "markdown",
   "id": "889dcddd",
   "metadata": {},
   "source": [
    "## Question 03\n",
    "\n",
    "Write a NumPy program to create a 3x3 matrix with values ranging from 2 to 10.\n",
    "\n",
    "**Expected Output:**\n",
    "```\n",
    "[[ 2 3 4]\n",
    "[ 5 6 7]\n",
    "[ 8 9 10]]\n",
    "\n",
    "```"
   ]
  },
  {
   "cell_type": "code",
   "execution_count": 5,
   "id": "70487159",
   "metadata": {},
   "outputs": [],
   "source": [
    "# Here write your answer"
   ]
  },
  {
   "cell_type": "code",
   "execution_count": null,
   "id": "5129487e",
   "metadata": {},
   "outputs": [],
   "source": []
  },
  {
   "cell_type": "markdown",
   "id": "c02f15a7",
   "metadata": {},
   "source": [
    "## Question 04\n",
    "\n",
    "Write a NumPy program to create a null vector of size 10 and update sixth value to 11.\n",
    "\n",
    "\n",
    "\n",
    "**Expected Output:**\n",
    "\n",
    "```    \n",
    "[ 0. 0. 0. 0. 0. 0. 0. 0. 0. 0.]\n",
    "Update sixth value to 11\n",
    "[ 0. 0. 0. 0. 0. 0. 11. 0. 0. 0.]\n",
    "```"
   ]
  },
  {
   "cell_type": "code",
   "execution_count": 7,
   "id": "bec13c6e",
   "metadata": {},
   "outputs": [],
   "source": [
    "# Here write your answer"
   ]
  },
  {
   "cell_type": "code",
   "execution_count": null,
   "id": "07e5a89f",
   "metadata": {},
   "outputs": [],
   "source": []
  },
  {
   "cell_type": "markdown",
   "id": "266caf1c",
   "metadata": {},
   "source": [
    "## Question 05\n",
    "\n",
    "Write a NumPy program to reverse an array (first element becomes last). \n",
    "\n",
    "\n",
    "**Original array:**\n",
    "\n",
    "```\n",
    "[12 13 14 15 16 17 18 19 20 21 22 23 24 25 26 27 28 29 30 31 32 33 34 35 36 37]\n",
    "```\n",
    "\n",
    "**Reverse array:**\n",
    "\n",
    "```    \n",
    "[37 36 35 34 33 32 31 30 29 28 27 26 25 24 23 22 21 20 19 18 17 16 15 14 13 12]\n",
    "```"
   ]
  },
  {
   "cell_type": "code",
   "execution_count": 14,
   "id": "cd162f8b",
   "metadata": {},
   "outputs": [],
   "source": [
    "# Here write your answer"
   ]
  },
  {
   "cell_type": "markdown",
   "id": "e6a93f0f",
   "metadata": {},
   "source": [
    "## Question 06\n",
    "Write a NumPy program to create a 2d array with 1 on the border and 0 inside.\n",
    "\n",
    "**Sample Output:**\n",
    "\n",
    "```\n",
    "Original array:                                                         \n",
    "[[ 1.  1.  1.  1.  1.]                                                  \n",
    " [ 1.  1.  1.  1.  1.]                                                  \n",
    " [ 1.  1.  1.  1.  1.]                                                  \n",
    " [ 1.  1.  1.  1.  1.]                                                  \n",
    " [ 1.  1.  1.  1.  1.]]                                                 \n",
    "1 on the border and 0 inside in the array                               \n",
    "[[ 1.  1.  1.  1.  1.]                                                  \n",
    " [ 1.  0.  0.  0.  1.]                                                  \n",
    " [ 1.  0.  0.  0.  1.]                                                  \n",
    " [ 1.  0.  0.  0.  1.]                                                  \n",
    " [ 1.  1.  1.  1.  1.]]\n",
    "```\n"
   ]
  },
  {
   "cell_type": "code",
   "execution_count": 15,
   "id": "86aa2717",
   "metadata": {},
   "outputs": [],
   "source": [
    "# Here write your answer"
   ]
  },
  {
   "cell_type": "markdown",
   "id": "93c42c49",
   "metadata": {},
   "source": [
    "## Question 07\n",
    "Write a NumPy program to get the unique elements of an array.(Hint: np.unique())\n",
    "\n",
    "\n",
    "\n",
    "**Sample Output:**\n",
    "    \n",
    "```\n",
    "Original array:                                                        \n",
    "[10 10 20 20 30 30]                                                    \n",
    "Unique elements of the above array:                                    \n",
    "[10 20 30]                                                             \n",
    "Original array:                                                        \n",
    "[[1 1]                                                                 \n",
    " [2 3]]                                                                \n",
    "Unique elements of the above array:                                    \n",
    "[1 2 3]\n",
    "```"
   ]
  },
  {
   "cell_type": "code",
   "execution_count": 13,
   "id": "82dfa7d1",
   "metadata": {},
   "outputs": [],
   "source": [
    "# here write your answer"
   ]
  },
  {
   "cell_type": "markdown",
   "id": "2ea37be2",
   "metadata": {},
   "source": [
    "## **Question 08:**\n",
    "\n",
    "**Multiplying numpy 2d Array with 1d Array**\n",
    "\n",
    "I have a numpy 2d array:\n",
    "```\n",
    "[[1,1,1],\n",
    "[1,1,1],\n",
    "[1,1,1],\n",
    "[1,1,1]]\n",
    "```\n",
    "\n",
    "How can I get it so that it multiplies the indices from top to bottom with the corresponding values from a 1d array when the row length of the 2d array is smaller than length of 1d array ? For example multiply above with this:\n",
    "```\n",
    "[10, 20, 30, 40]\n",
    "```\n",
    "\n",
    "to get this:\n",
    "```\n",
    " [[10, 10, 10],\n",
    " [20, 20, 20],\n",
    " [30, 30, 30]\n",
    " [40, 40, 40]]\n",
    "```"
   ]
  },
  {
   "cell_type": "code",
   "execution_count": 16,
   "id": "60ee3141",
   "metadata": {},
   "outputs": [],
   "source": [
    "# Here write your answer"
   ]
  },
  {
   "cell_type": "code",
   "execution_count": null,
   "id": "4221b093",
   "metadata": {},
   "outputs": [],
   "source": []
  },
  {
   "cell_type": "markdown",
   "id": "6e4accf9",
   "metadata": {},
   "source": [
    "## **Question 09 : Euclidean distance  with NumPy**\n",
    "\n",
    "I have two points in 3D space:\n",
    "```\n",
    "a = (ax, ay, az)\n",
    "b = (bx, by, bz)\n",
    "```\n",
    "\n",
    "I want to calculate the distance between them:\n",
    "```\n",
    "dist = sqrt((ax-bx)^2 + (ay-by)^2 + (az-bz)^2)\n",
    "```\n",
    "\n",
    "How do I do this with NumPy? I have:\n",
    "```\n",
    "import numpy\n",
    "a = numpy.array((ax, ay, az))\n",
    "b = numpy.array((bx, by, bz))\n",
    "```\n",
    "\n",
    "\n",
    "**Note : To be clear, your 3D coords of points are actually 1D arrays**\n"
   ]
  },
  {
   "cell_type": "code",
   "execution_count": 18,
   "id": "0a252e66",
   "metadata": {},
   "outputs": [],
   "source": [
    "# Here write your answer"
   ]
  },
  {
   "cell_type": "code",
   "execution_count": null,
   "id": "b5aabcbe",
   "metadata": {},
   "outputs": [],
   "source": []
  },
  {
   "cell_type": "markdown",
   "id": "492682d1",
   "metadata": {},
   "source": [
    "## **Question 10: Count of occurence of certain item in ndarray.**\n",
    "I have following array\n",
    "```\n",
    "[0, 3, 0, 1, 0, 1, 2, 1, 0, 0, 0, 0, 1, 3, 4]\n",
    "```\n",
    "After performing certain operations, I want to get count of each occurence like this\n",
    "\n",
    "```\n",
    "{0: 7, 1: 4, 2: 1, 3: 2, 4: 1}\n",
    "```"
   ]
  },
  {
   "cell_type": "code",
   "execution_count": 19,
   "id": "116ada35",
   "metadata": {},
   "outputs": [],
   "source": [
    "# Here write your answer"
   ]
  },
  {
   "cell_type": "code",
   "execution_count": null,
   "id": "34456266",
   "metadata": {},
   "outputs": [],
   "source": []
  },
  {
   "cell_type": "markdown",
   "id": "ae9db6dd",
   "metadata": {},
   "source": [
    "## Question 11\n",
    "\n",
    "Write a NumPy program to create a 8x8 matrix and fill it with a checkerboard pattern.\n",
    "\n",
    "**Checkerboard pattern:**\n",
    "    \n",
    "```\n",
    "[[0 1 0 1 0 1 0 1]                                                      \n",
    " [1 0 1 0 1 0 1 0]                                                      \n",
    " [0 1 0 1 0 1 0 1]                                                      \n",
    " [1 0 1 0 1 0 1 0]                                                      \n",
    " [0 1 0 1 0 1 0 1]                                                      \n",
    " [1 0 1 0 1 0 1 0]                                                      \n",
    " [0 1 0 1 0 1 0 1]                                                      \n",
    " [1 0 1 0 1 0 1 0]]\n",
    "```"
   ]
  },
  {
   "cell_type": "code",
   "execution_count": 21,
   "id": "b8ea070b",
   "metadata": {},
   "outputs": [],
   "source": [
    "# Here write your answer"
   ]
  },
  {
   "cell_type": "code",
   "execution_count": null,
   "id": "0cc9f76c",
   "metadata": {},
   "outputs": [],
   "source": []
  },
  {
   "cell_type": "markdown",
   "id": "15903ed7",
   "metadata": {},
   "source": [
    "## Question 12\n",
    "Write a NumPy program to create a new vector with 2 consecutive 0 between two values of a given vector.\n",
    "\n",
    "```\n",
    "Original array:\n",
    "\n",
    "[1 2 3 4 5 6 7 8]\n",
    "\n",
    "New array:\n",
    "[1. 0. 0. 2. 0. 0. 3. 0. 0. 4. 0. 0. 5. 0. 0. 6. 0. 0. 7. 0. 0. 8.]\n",
    "```"
   ]
  },
  {
   "cell_type": "code",
   "execution_count": 24,
   "id": "0a3fdfb9",
   "metadata": {},
   "outputs": [],
   "source": [
    "# Here write your answer"
   ]
  },
  {
   "cell_type": "code",
   "execution_count": null,
   "id": "d82eb64c",
   "metadata": {},
   "outputs": [],
   "source": []
  }
 ],
 "metadata": {
  "kernelspec": {
   "display_name": "Python 3 (ipykernel)",
   "language": "python",
   "name": "python3"
  },
  "language_info": {
   "codemirror_mode": {
    "name": "ipython",
    "version": 3
   },
   "file_extension": ".py",
   "mimetype": "text/x-python",
   "name": "python",
   "nbconvert_exporter": "python",
   "pygments_lexer": "ipython3",
   "version": "3.8.10"
  }
 },
 "nbformat": 4,
 "nbformat_minor": 5
}

{
 "cells": [
  {
   "cell_type": "markdown",
   "id": "resistant-huntington",
   "metadata": {},
   "source": [
    "Write your asnwers according to your concepts and after solving this assignment, submit this notebook in google classroom.\n",
    "Mention User name like this **Assignment 01(Name)**"
   ]
  },
  {
   "cell_type": "markdown",
   "id": "reliable-innocent",
   "metadata": {},
   "source": [
    "1. What is difference between data analyst and data science?\n",
    "2. Write a Python program to get the Python version you are using\n",
    "3. Write a program in which create five variables in same line\n",
    "4. Write a program in which declare a variable and check its type and Id\n",
    "5. Write a program that performs sum of five variables is equal 44 using python operators\n",
    "6. Write a Python program which calculate the radius of a circle\n",
    "**Sample : radius = 5**  \n",
    "**Output : 78.5**     \n",
    "\n",
    "7. Write a Python program which print the user's first and last name and concate them  \n",
    "**Sample : first_name = \"Ehtisham\"**  \n",
    "**Sample : last_name = \"Sadiq\"**   \n",
    "**Output : output = \"Ehtisham Sadiq\"** \n",
    "\n",
    "8. Is the variable name Sales the same as sales? Why or why not?\n",
    "9. Is the following assignment statement valid or invalid? If it is invalid, why? 72 =    amount  \n",
    "10. What will be displayed by the following program?   \n",
    "    my_value = 99   \n",
    "    my_value = 0   \n",
    "    print(my_value)   \n",
    "    \n",
    "11. Write a Python statement that assigns the sum of 10 and 14 to the variable total.\n",
    "12. Write a Python statement that subtracts the variable down_payment from the variable\n",
    "    total and assigns the result to the variable due.\n",
    "13. Write a Python statement that multiplies the variable subtotal by 0.15 and assigns the\n",
    "    result to the variable total."
   ]
  },
  {
   "cell_type": "markdown",
   "id": "aggregate-special",
   "metadata": {},
   "source": [
    "### Question no 02"
   ]
  },
  {
   "cell_type": "code",
   "execution_count": 1,
   "id": "another-attribute",
   "metadata": {},
   "outputs": [],
   "source": [
    "# Here write your answer"
   ]
  },
  {
   "cell_type": "markdown",
   "id": "violent-ordering",
   "metadata": {},
   "source": [
    "### Question no 03"
   ]
  },
  {
   "cell_type": "code",
   "execution_count": 2,
   "id": "blond-medium",
   "metadata": {},
   "outputs": [],
   "source": [
    "# Here write your answer"
   ]
  },
  {
   "cell_type": "markdown",
   "id": "regulated-istanbul",
   "metadata": {},
   "source": [
    "### Question no 04"
   ]
  },
  {
   "cell_type": "code",
   "execution_count": 3,
   "id": "received-chain",
   "metadata": {},
   "outputs": [],
   "source": [
    "# Here write your answer"
   ]
  },
  {
   "cell_type": "markdown",
   "id": "fixed-bolivia",
   "metadata": {},
   "source": [
    "### Question no 05"
   ]
  },
  {
   "cell_type": "code",
   "execution_count": 4,
   "id": "spectacular-giving",
   "metadata": {},
   "outputs": [],
   "source": [
    "# Here write your answer"
   ]
  },
  {
   "cell_type": "markdown",
   "id": "floppy-pricing",
   "metadata": {},
   "source": [
    "### Question no 06"
   ]
  },
  {
   "cell_type": "code",
   "execution_count": 5,
   "id": "incomplete-virgin",
   "metadata": {},
   "outputs": [],
   "source": [
    "# Here write your answer"
   ]
  },
  {
   "cell_type": "markdown",
   "id": "recognized-dispute",
   "metadata": {},
   "source": [
    "### Question no 07"
   ]
  },
  {
   "cell_type": "code",
   "execution_count": 6,
   "id": "neither-johns",
   "metadata": {},
   "outputs": [],
   "source": [
    "# Here write your answer"
   ]
  },
  {
   "cell_type": "markdown",
   "id": "relative-permission",
   "metadata": {},
   "source": [
    "### Question no 08"
   ]
  },
  {
   "cell_type": "code",
   "execution_count": 7,
   "id": "opposite-maine",
   "metadata": {},
   "outputs": [],
   "source": [
    "# Here write your answer"
   ]
  },
  {
   "cell_type": "markdown",
   "id": "acoustic-jacksonville",
   "metadata": {},
   "source": [
    "### Question no 09"
   ]
  },
  {
   "cell_type": "code",
   "execution_count": 8,
   "id": "patient-research",
   "metadata": {},
   "outputs": [],
   "source": [
    "# Here write your answer"
   ]
  },
  {
   "cell_type": "code",
   "execution_count": null,
   "id": "historic-configuration",
   "metadata": {},
   "outputs": [],
   "source": []
  },
  {
   "cell_type": "markdown",
   "id": "living-prophet",
   "metadata": {},
   "source": [
    "### Question no 10"
   ]
  },
  {
   "cell_type": "code",
   "execution_count": 9,
   "id": "progressive-navigation",
   "metadata": {},
   "outputs": [],
   "source": [
    "# Here write your answer"
   ]
  },
  {
   "cell_type": "markdown",
   "id": "looking-massage",
   "metadata": {},
   "source": [
    "### Question no 11"
   ]
  },
  {
   "cell_type": "code",
   "execution_count": 10,
   "id": "champion-pontiac",
   "metadata": {},
   "outputs": [],
   "source": [
    "# Here write your answer"
   ]
  },
  {
   "cell_type": "markdown",
   "id": "distant-suspect",
   "metadata": {},
   "source": [
    "### Question no 12"
   ]
  },
  {
   "cell_type": "code",
   "execution_count": 12,
   "id": "golden-experience",
   "metadata": {},
   "outputs": [],
   "source": [
    "# Here write your answer"
   ]
  },
  {
   "cell_type": "markdown",
   "id": "specialized-annotation",
   "metadata": {},
   "source": [
    "### Question no 13"
   ]
  },
  {
   "cell_type": "code",
   "execution_count": 11,
   "id": "colonial-fleece",
   "metadata": {},
   "outputs": [],
   "source": [
    "# Here write your answer"
   ]
  },
  {
   "cell_type": "code",
   "execution_count": null,
   "id": "present-avenue",
   "metadata": {},
   "outputs": [],
   "source": []
  },
  {
   "cell_type": "code",
   "execution_count": null,
   "id": "funded-discount",
   "metadata": {},
   "outputs": [],
   "source": []
  }
 ],
 "metadata": {
  "kernelspec": {
   "display_name": "Python 3 (ipykernel)",
   "language": "python",
   "name": "python3"
  },
  "language_info": {
   "codemirror_mode": {
    "name": "ipython",
    "version": 3
   },
   "file_extension": ".py",
   "mimetype": "text/x-python",
   "name": "python",
   "nbconvert_exporter": "python",
   "pygments_lexer": "ipython3",
   "version": "3.8.10"
  }
 },
 "nbformat": 4,
 "nbformat_minor": 5
}

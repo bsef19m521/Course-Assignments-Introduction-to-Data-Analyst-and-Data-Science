{
 "cells": [
  {
   "cell_type": "markdown",
   "id": "quarterly-raleigh",
   "metadata": {},
   "source": [
    "Write your asnwers according to your concepts and after solving this assignment, submit this notebook in google classroom. Mention User name like this **Assignment 04 (Name)**"
   ]
  },
  {
   "cell_type": "markdown",
   "id": "proved-tomato",
   "metadata": {},
   "source": [
    "## Question 01:\n",
    "Look at the following statement:    \n",
    "numbers = [10, 20, 30, 40, 50]\n",
    "- a. How many elements does the list have?\n",
    "- b. What is the index of the first element in the list?\n",
    "- c. What is the index of the last element in the list?"
   ]
  },
  {
   "cell_type": "code",
   "execution_count": 1,
   "id": "leading-spell",
   "metadata": {},
   "outputs": [],
   "source": [
    "# Here write your answer\n"
   ]
  },
  {
   "cell_type": "code",
   "execution_count": null,
   "id": "british-transaction",
   "metadata": {},
   "outputs": [],
   "source": []
  },
  {
   "cell_type": "markdown",
   "id": "equal-surface",
   "metadata": {},
   "source": [
    "## Question 02:\n",
    "Look at the following statement:    \n",
    "numbers = [1, 2, 3]\n",
    "- a. What value is stored in numbers[2]?\n",
    "- b. What value is stored in numbers[0]?\n",
    "- c. What value is stored in numbers[-1]?"
   ]
  },
  {
   "cell_type": "code",
   "execution_count": 2,
   "id": "raising-learning",
   "metadata": {},
   "outputs": [],
   "source": [
    "# Here write your answer\n"
   ]
  },
  {
   "cell_type": "code",
   "execution_count": null,
   "id": "extra-suspension",
   "metadata": {},
   "outputs": [],
   "source": []
  },
  {
   "cell_type": "markdown",
   "id": "blocked-warehouse",
   "metadata": {},
   "source": [
    "## Question 03:\n",
    "Assume the lists numbers1 has 100 elements and numbers2 is an empty list. Write\n",
    "code that copies the values in numbers1 to numbers2."
   ]
  },
  {
   "cell_type": "code",
   "execution_count": 3,
   "id": "occasional-feeling",
   "metadata": {},
   "outputs": [],
   "source": [
    "# Here write your answer"
   ]
  },
  {
   "cell_type": "code",
   "execution_count": null,
   "id": "b4f1ec6b",
   "metadata": {},
   "outputs": [],
   "source": []
  },
  {
   "cell_type": "markdown",
   "id": "coastal-orleans",
   "metadata": {},
   "source": [
    "## Question 04:"
   ]
  },
  {
   "cell_type": "markdown",
   "id": "embedded-holmes",
   "metadata": {},
   "source": [
    "### Number Analysis Program\n",
    "Design a program that asks the user to enter a series of 5 numbers. The program should\n",
    "store the numbers in a list and then display the following data:\n",
    "- The lowest number in the list\n",
    "- The highest number in the list\n",
    "- The total of the numbers in the list\n",
    "- The average of the numbers in the list"
   ]
  },
  {
   "cell_type": "code",
   "execution_count": 5,
   "id": "fcd0aa53",
   "metadata": {},
   "outputs": [],
   "source": [
    "# Here write your answer"
   ]
  },
  {
   "cell_type": "code",
   "execution_count": 91,
   "id": "4bc6bf24",
   "metadata": {},
   "outputs": [],
   "source": []
  },
  {
   "cell_type": "markdown",
   "id": "marine-attendance",
   "metadata": {},
   "source": [
    "## Question 05:"
   ]
  },
  {
   "cell_type": "markdown",
   "id": "satellite-member",
   "metadata": {},
   "source": [
    "How do you perform the following tasks with lists in Python?\n",
    "- Test that two lists contain the same elements in the same order.\n",
    "- Copy one list to another. \n",
    "- Fill a list with zeroes, overwriting all elements in it.\n",
    "- Remove all elements from a list."
   ]
  },
  {
   "cell_type": "code",
   "execution_count": 6,
   "id": "01f7bfee",
   "metadata": {},
   "outputs": [],
   "source": [
    "# Here write your answer"
   ]
  },
  {
   "cell_type": "code",
   "execution_count": null,
   "id": "bf59e33f",
   "metadata": {},
   "outputs": [],
   "source": []
  },
  {
   "cell_type": "markdown",
   "id": "crazy-locking",
   "metadata": {},
   "source": [
    "## Question 06:"
   ]
  },
  {
   "cell_type": "markdown",
   "id": "duplicate-thought",
   "metadata": {},
   "source": [
    "Write a program that initializes a list with ten random integers and then prints four \n",
    "lines of output, containing\n",
    "- Every element at an even index.\n",
    "- Every even element.\n",
    "- All elements in reverse order.\n",
    "- Only the first and last element."
   ]
  },
  {
   "cell_type": "code",
   "execution_count": 7,
   "id": "7dfec333",
   "metadata": {},
   "outputs": [],
   "source": [
    "# Here write your answer\n"
   ]
  },
  {
   "cell_type": "code",
   "execution_count": null,
   "id": "288c6cbc",
   "metadata": {},
   "outputs": [],
   "source": []
  },
  {
   "cell_type": "markdown",
   "id": "bored-homework",
   "metadata": {},
   "source": [
    "## Question 07:\n",
    "Write a function removeMin that removes the minimum value from a list without using \n",
    "the min function or remove method. "
   ]
  },
  {
   "cell_type": "code",
   "execution_count": 8,
   "id": "e2836915",
   "metadata": {},
   "outputs": [],
   "source": [
    "# Here write your answer"
   ]
  },
  {
   "cell_type": "code",
   "execution_count": null,
   "id": "1d4a485f",
   "metadata": {},
   "outputs": [],
   "source": []
  },
  {
   "cell_type": "markdown",
   "id": "abstract-liabilities",
   "metadata": {},
   "source": [
    "## Question 08:\n",
    "One acre of land is equivalent to 43,560 square feet. Write a program that asks the user \n",
    "to enter the total square feet in a tract of land, and then calculates and display the number of acres in the tract."
   ]
  },
  {
   "cell_type": "code",
   "execution_count": 9,
   "id": "brown-pharmacology",
   "metadata": {},
   "outputs": [],
   "source": [
    "# Here write your answer"
   ]
  },
  {
   "cell_type": "code",
   "execution_count": null,
   "id": "74c73dc4",
   "metadata": {},
   "outputs": [],
   "source": []
  },
  {
   "cell_type": "markdown",
   "id": "connected-rapid",
   "metadata": {},
   "source": [
    "## Question 09:\n",
    "There are three seating categories at a stadium. For a softball game, Class A seats cost \n",
    "$15, Class  B  seats  cost $12, and Class C seats cost $9. Write a program that asks how many  tickets for each class of seats were sold, and then displays the amount of income \n",
    "generated from ticket sales.\n"
   ]
  },
  {
   "cell_type": "code",
   "execution_count": 10,
   "id": "b75c16c3",
   "metadata": {},
   "outputs": [],
   "source": [
    "# Here write your answer"
   ]
  },
  {
   "cell_type": "code",
   "execution_count": null,
   "id": "3bb73da0",
   "metadata": {},
   "outputs": [],
   "source": []
  },
  {
   "cell_type": "markdown",
   "id": "independent-manor",
   "metadata": {},
   "source": [
    "## Question 10:\n",
    "Write a program in which create a list of 10 random integers and find the product of all elements of a list."
   ]
  },
  {
   "cell_type": "code",
   "execution_count": 11,
   "id": "80049710",
   "metadata": {},
   "outputs": [],
   "source": [
    "# Here write your answer"
   ]
  },
  {
   "cell_type": "code",
   "execution_count": null,
   "id": "hundred-forum",
   "metadata": {},
   "outputs": [],
   "source": []
  },
  {
   "cell_type": "markdown",
   "id": "russian-squad",
   "metadata": {},
   "source": [
    "## Question 11:"
   ]
  },
  {
   "cell_type": "markdown",
   "id": "configured-affairs",
   "metadata": {},
   "source": [
    "Given the set definitions below, answer the following questions:    \n",
    "set1 = { 1, 2, 3, 4, 5 }   \n",
    "set2 = { 2, 4, 6, 8 }    \n",
    "set3 = { 1, 5, 9, 13, 17 }   \n",
    "- a.  Is set1 a subset of set2?\n",
    "- b.  Is the intersection of set1 and set3 empty?\n",
    "- c.  What is the result of performing set union on set1 and set2?\n",
    "- d.  What is the result of performing set intersection on set2 and set3?\n",
    "- e.  What is the result of performing set intersection on all three sets?\n",
    "- f.  What is the result of performing the set difference on set1 and set2 (set1 – set2)?\n",
    "- g.  What is the result of the instruction set1.discard(5)? \n",
    "- h.  What is the result of the instruction set2.discard(5)? "
   ]
  },
  {
   "cell_type": "code",
   "execution_count": 12,
   "id": "3801fb4c",
   "metadata": {},
   "outputs": [],
   "source": [
    "# Here write your answer\n"
   ]
  },
  {
   "cell_type": "markdown",
   "id": "qualified-basketball",
   "metadata": {},
   "source": [
    "## Question 12:"
   ]
  },
  {
   "cell_type": "markdown",
   "id": "noticed-pollution",
   "metadata": {},
   "source": [
    "Given three sets, set1, set2, and set3, write Python statement(s) to perform the following actions:  \n",
    "- a.  Create a new set of all elements that are in set1 or set2, but not both.\n",
    "- b.  Create a new set of all elements that are in only one of the three sets set1, set2, and set3.\n",
    "- c.  Create a new set of all elements that are in exactly two of the sets set1, set2, and set3.\n",
    "- d.  Create a new set of all integer elements in the range 1 through 25 that are not in set1.\n",
    "- e.  Create a new set of all integer elements in the range 1 through 25 that are not in any of the three sets set1, set2, or set3.\n",
    "- f.  Create a new set of all integer elements in the range 1 through 25 that are not in all three sets set1, set2, and set3."
   ]
  },
  {
   "cell_type": "markdown",
   "id": "c73e4666",
   "metadata": {},
   "source": [
    "Here you can also manully add elements in the sets by using loops.     \n",
    "But in this case, i am using random module to generate all sets"
   ]
  },
  {
   "cell_type": "code",
   "execution_count": null,
   "id": "a71f3e37",
   "metadata": {},
   "outputs": [],
   "source": []
  },
  {
   "cell_type": "code",
   "execution_count": 13,
   "id": "presidential-deadline",
   "metadata": {},
   "outputs": [],
   "source": [
    "# Here write your answer"
   ]
  },
  {
   "cell_type": "code",
   "execution_count": null,
   "id": "dressed-reflection",
   "metadata": {},
   "outputs": [],
   "source": []
  },
  {
   "cell_type": "markdown",
   "id": "willing-massachusetts",
   "metadata": {},
   "source": [
    "## Question 13:\n",
    "    "
   ]
  },
  {
   "cell_type": "markdown",
   "id": "whole-samuel",
   "metadata": {},
   "source": [
    "Write a program that asks a user to type in two strings and that prints\n",
    "- the characters that occur in both strings.\n",
    "- the characters that occur in one string but not the other.\n",
    "- the letters that don’t occur in either string.   \n",
    "Use the set function to turn a string into a set of characters."
   ]
  },
  {
   "cell_type": "code",
   "execution_count": 14,
   "id": "df202950",
   "metadata": {},
   "outputs": [],
   "source": [
    "# Here write your answer"
   ]
  },
  {
   "cell_type": "code",
   "execution_count": null,
   "id": "electronic-action",
   "metadata": {},
   "outputs": [],
   "source": []
  },
  {
   "cell_type": "markdown",
   "id": "renewable-lightning",
   "metadata": {},
   "source": [
    "## Question 14:\n",
    "### Rainfall Statistics\n",
    "Design a program that lets the user enter the total rainfall for each of 12 months into a list. The program should calculate and display the total rainfall for the year, the average monthly rainfall, and the months with the highest and lowest amounts. "
   ]
  },
  {
   "cell_type": "code",
   "execution_count": 15,
   "id": "environmental-generator",
   "metadata": {},
   "outputs": [],
   "source": [
    "# Here write your answer"
   ]
  },
  {
   "cell_type": "code",
   "execution_count": null,
   "id": "polar-competition",
   "metadata": {},
   "outputs": [],
   "source": []
  },
  {
   "cell_type": "markdown",
   "id": "infectious-appliance",
   "metadata": {},
   "source": [
    "## Question 15:"
   ]
  },
  {
   "cell_type": "markdown",
   "id": "short-belief",
   "metadata": {},
   "source": [
    "Consider the given tuple and write the python code for  given statements: T1 = (1, 23, 4, 5, “A”, [“C”, “D”], (23, 45), 45).\n",
    "   - a.  Find Total elements in the given Tuple\n",
    "   - b.  Find the index of any given element \n",
    "   - c.  Find the occurence of any given element\n",
    "   - d.  How we can print \"CC\" for above given Tuple\n",
    "   - e.  Print first 5 elements of the tuple\n",
    "   - f.  Print last 5 elements of the tuple\n",
    "   - h.  How we can get this output (45, ['C', 'D'], 5) from given tuple\n",
    "   - i.  Concatenate elements of tuple present at index 4 and 5\n",
    "   - j.  Use max() function on given tuple, and what is your output?"
   ]
  },
  {
   "cell_type": "code",
   "execution_count": 16,
   "id": "proper-aquarium",
   "metadata": {},
   "outputs": [],
   "source": [
    "# Here write your answer"
   ]
  },
  {
   "cell_type": "code",
   "execution_count": null,
   "id": "printable-forestry",
   "metadata": {},
   "outputs": [],
   "source": []
  }
 ],
 "metadata": {
  "kernelspec": {
   "display_name": "Python 3 (ipykernel)",
   "language": "python",
   "name": "python3"
  },
  "language_info": {
   "codemirror_mode": {
    "name": "ipython",
    "version": 3
   },
   "file_extension": ".py",
   "mimetype": "text/x-python",
   "name": "python",
   "nbconvert_exporter": "python",
   "pygments_lexer": "ipython3",
   "version": "3.8.10"
  }
 },
 "nbformat": 4,
 "nbformat_minor": 5
}

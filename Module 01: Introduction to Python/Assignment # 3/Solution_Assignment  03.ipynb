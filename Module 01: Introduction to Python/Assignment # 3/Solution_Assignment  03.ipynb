{
 "cells": [
  {
   "cell_type": "markdown",
   "id": "greater-questionnaire",
   "metadata": {},
   "source": [
    "Write your asnwers according to your concepts and after solving this assignment, submit this notebook in google classroom.\n",
    "Mention User name like this **Assignment 03 (Name)**"
   ]
  },
  {
   "cell_type": "markdown",
   "id": "loaded-balance",
   "metadata": {},
   "source": [
    "## Question 01:\n",
    "    What does the following code display?\n",
    "    mystr = 'yes'\n",
    "    mystr = mystr + 'no'\n",
    "    mystr = mystr + 'yes'\n",
    "    print(mystr)\n"
   ]
  },
  {
   "cell_type": "code",
   "execution_count": 3,
   "id": "substantial-absence",
   "metadata": {},
   "outputs": [],
   "source": [
    "# Here write your answer\n",
    "# yesnoyes"
   ]
  },
  {
   "cell_type": "code",
   "execution_count": null,
   "id": "stupid-membrane",
   "metadata": {},
   "outputs": [],
   "source": []
  },
  {
   "cell_type": "markdown",
   "id": "compatible-donor",
   "metadata": {},
   "source": [
    "## Question 02:\n",
    "**Assume mystring references a string. Write a statement that uses a slicing expression\n",
    "and displays the first 3 characters in the string.**"
   ]
  },
  {
   "cell_type": "code",
   "execution_count": 4,
   "id": "practical-china",
   "metadata": {},
   "outputs": [
    {
     "name": "stdout",
     "output_type": "stream",
     "text": [
      "Eht\n"
     ]
    }
   ],
   "source": [
    "# Here Write Your answer\n",
    "\n",
    "mystring = \"Ehtisham Sadiq\"\n",
    "print(mystring[:3])\n"
   ]
  },
  {
   "cell_type": "code",
   "execution_count": null,
   "id": "enabling-cutting",
   "metadata": {},
   "outputs": [],
   "source": []
  },
  {
   "cell_type": "markdown",
   "id": "studied-salmon",
   "metadata": {},
   "source": [
    "## Question 03:\n",
    "   **Assume mystring references a string. Write a statement that uses a slicing expression and displays the last 3 characters in the string.**"
   ]
  },
  {
   "cell_type": "code",
   "execution_count": 5,
   "id": "mature-wisconsin",
   "metadata": {},
   "outputs": [
    {
     "name": "stdout",
     "output_type": "stream",
     "text": [
      "diq\n"
     ]
    }
   ],
   "source": [
    "#  Here Write your answer\n",
    "\n",
    "\n",
    "mystring = \"Ehtisham Sadiq\"\n",
    "print(mystring[-3:])\n"
   ]
  },
  {
   "cell_type": "code",
   "execution_count": null,
   "id": "heated-ghana",
   "metadata": {},
   "outputs": [],
   "source": []
  },
  {
   "cell_type": "markdown",
   "id": "tight-indianapolis",
   "metadata": {},
   "source": [
    "## Question 04:\n",
    "    Look at the following statement:\n",
    " #### mystring = 'cookies>milk>fudge>cake>ice cream'\n",
    "    Write a statement that splits this string, creating the following list:\n",
    "   ['cookies', 'milk', 'fudge', 'cake', 'ice cream']"
   ]
  },
  {
   "cell_type": "code",
   "execution_count": 7,
   "id": "external-metro",
   "metadata": {},
   "outputs": [
    {
     "data": {
      "text/plain": [
       "['cookies', 'milk', 'fudge', 'cake', 'ice cream']"
      ]
     },
     "execution_count": 7,
     "metadata": {},
     "output_type": "execute_result"
    }
   ],
   "source": [
    "# Here write your answer in just two lines of code\n",
    "\n",
    "mystring = 'cookies>milk>fudge>cake>ice cream'\n",
    "result = mystring.split(\">\")\n",
    "result"
   ]
  },
  {
   "cell_type": "code",
   "execution_count": null,
   "id": "expressed-palace",
   "metadata": {},
   "outputs": [],
   "source": []
  },
  {
   "cell_type": "markdown",
   "id": "frozen-strain",
   "metadata": {},
   "source": [
    "## Question 05:"
   ]
  },
  {
   "cell_type": "markdown",
   "id": "elegant-fundamental",
   "metadata": {},
   "source": [
    "#### Sum of Digits in a String\n",
    "Write a program that asks the user to enter a series of single-digit numbers with nothing separating them. The program should display the sum of all the single digit numbers in the string. For example, if the user enters 2514, the method should return 12, which is the sum of 2, 5, 1, and 4."
   ]
  },
  {
   "cell_type": "code",
   "execution_count": 8,
   "id": "outside-virginia",
   "metadata": {},
   "outputs": [
    {
     "name": "stdout",
     "output_type": "stream",
     "text": [
      "Enter a series of single-digit numbers: 2514\n"
     ]
    }
   ],
   "source": [
    "# Here write your answer\n",
    "\n",
    "num_str = input(\"Enter a series of single-digit numbers: \")\n",
    "Sum = 0\n",
    "for char in num_str:\n",
    "    Sum = Sum + int(char)"
   ]
  },
  {
   "cell_type": "code",
   "execution_count": 9,
   "id": "suspended-possession",
   "metadata": {},
   "outputs": [
    {
     "name": "stdout",
     "output_type": "stream",
     "text": [
      "The sum of the digits is: 12\n"
     ]
    }
   ],
   "source": [
    "print(\"The sum of the digits is:\", Sum)"
   ]
  },
  {
   "cell_type": "code",
   "execution_count": null,
   "id": "silver-design",
   "metadata": {},
   "outputs": [],
   "source": []
  },
  {
   "cell_type": "markdown",
   "id": "greatest-uruguay",
   "metadata": {},
   "source": [
    "## Question 06:\n",
    "\n",
    "What are the values of the following expressions? In each line, assume that\n",
    "```\n",
    "x = 2.5\n",
    "y = -1.5\n",
    "m = 18\n",
    "n = 4 ```\n",
    "\n",
    "\n",
    "#### a. x + n * y - (x + n) * y\n",
    "#### b. m // n + m % n\n",
    "#### c. 5 * x - n / 5\n",
    "#### d. 1 - (1 - (1 - (1 - (1 - n))))\n",
    "#### e. sqrt(sqrt(n)"
   ]
  },
  {
   "cell_type": "code",
   "execution_count": 10,
   "id": "contrary-canberra",
   "metadata": {},
   "outputs": [],
   "source": [
    "# # Here write your answer\n",
    "# a. x + n * y - (x + n) * y = 2.5 + 4 * -1.5 - (2.5 + 4) * -1.5 = 2.5 + -6 - (6.5) * -1.5 = 2.5 + -6 + 9.75 = 6.25\n",
    "# b. m // n + m % n = 18 // 4 + 18 % 4 = 4 + 2 = 6\n",
    "# c. 5 * x - n / 5 = 5 * 2.5 - 4 / 5 = 12.5 - 0.8 = 11.7\n",
    "# d. 1 - (1 - (1 - (1 - (1 - n)))) = 1 - (1 - (1 - (1 - (1 - 4)))) = 1 - (1 - (1 - 3)) = 1 - (1 - 2) = 1 - 1 = 0\n",
    "# e. sqrt(sqrt(n)) = sqrt(sqrt(4)) = sqrt(2)"
   ]
  },
  {
   "cell_type": "code",
   "execution_count": null,
   "id": "centered-steering",
   "metadata": {},
   "outputs": [],
   "source": []
  },
  {
   "cell_type": "markdown",
   "id": "failing-paintball",
   "metadata": {},
   "source": [
    "## Question 07:\n",
    "    What are the values of the following expressions? In each line, assume that\n",
    "    s = \"Hello\"\n",
    "    t = \"World\"\n",
    "#### a. len(s) + len(t)\n",
    "#### b. s[1] + s[2]\n",
    "#### c. s[len(s) // 2]\n",
    "####  d. s + t\n",
    "#### e. t + s\n",
    "#### f. s * 2"
   ]
  },
  {
   "cell_type": "code",
   "execution_count": 11,
   "id": "individual-capability",
   "metadata": {},
   "outputs": [],
   "source": [
    "# Here write your answer\n",
    "# a. len(s) + len(t) = 5 + 5 = 10\n",
    "# b. s[1] + s[2] = \"e\" + \"l\" = \"el\"\n",
    "# c. s[len(s) // 2] = s[2] = \"l\"\n",
    "# d. s + t = \"Hello\" + \"World\" = \"HelloWorld\"\n",
    "# e. t + s = \"World\" + \"Hello\" = \"WorldHello\"\n",
    "# f. s * 2 = \"Hello\" * 2 = \"HelloHello\""
   ]
  },
  {
   "cell_type": "code",
   "execution_count": null,
   "id": "sapphire-antique",
   "metadata": {},
   "outputs": [],
   "source": []
  },
  {
   "cell_type": "markdown",
   "id": "elect-metadata",
   "metadata": {},
   "source": [
    "## Question 08:\n",
    "    Write a program that reads a number and displays the square, cube, and fourth \n",
    "    power. Use the ** operator only for the fourth power."
   ]
  },
  {
   "cell_type": "code",
   "execution_count": 12,
   "id": "split-suffering",
   "metadata": {},
   "outputs": [
    {
     "name": "stdout",
     "output_type": "stream",
     "text": [
      "Enter a number: 4\n",
      "Square: 16.0\n",
      "Cube: 64.0\n",
      "Fourth Power: 256.0\n"
     ]
    }
   ],
   "source": [
    "\n",
    "# Here write your answer\n",
    "\n",
    "num = float(input(\"Enter a number: \"))\n",
    "\n",
    "# calculate square, cube, and fourth power\n",
    "square = num ** 2\n",
    "cube = num ** 3\n",
    "fourth_power = num ** 4\n",
    "\n",
    "print(\"Square:\", square)\n",
    "print(\"Cube:\", cube)\n",
    "print(\"Fourth Power:\", fourth_power)\n"
   ]
  },
  {
   "cell_type": "code",
   "execution_count": null,
   "id": "intimate-compound",
   "metadata": {},
   "outputs": [],
   "source": []
  },
  {
   "cell_type": "markdown",
   "id": "cutting-concentrate",
   "metadata": {},
   "source": [
    "## Question 09:\n",
    "    Write a program that prompts the user for a radius and then prints\n",
    "- The area and circumference of a circle with that radius\n",
    "- The volume and surface area of a sphere with that radius"
   ]
  },
  {
   "cell_type": "markdown",
   "id": "together-bracelet",
   "metadata": {},
   "source": [
    "![](one.png)"
   ]
  },
  {
   "cell_type": "markdown",
   "id": "comprehensive-jaguar",
   "metadata": {},
   "source": [
    "![](surface-area-sphere.png)"
   ]
  },
  {
   "cell_type": "code",
   "execution_count": 15,
   "id": "authentic-lover",
   "metadata": {},
   "outputs": [
    {
     "name": "stdout",
     "output_type": "stream",
     "text": [
      "Enter the radius: 7.4\n"
     ]
    }
   ],
   "source": [
    "# Here write your answer\n",
    "\n",
    "pi = 3.14\n",
    "radius = float(input(\"Enter the radius: \"))\n",
    "\n",
    "# Calculate area and circumference of circle\n",
    "area = pi * radius**2\n",
    "circumference = 2 * pi * radius\n",
    "\n",
    "# Calculate volume and surface area of sphere\n",
    "volume = (4/3) * pi * radius**3\n",
    "surface_area = 4 * pi * radius**2\n"
   ]
  },
  {
   "cell_type": "code",
   "execution_count": 16,
   "id": "brilliant-science",
   "metadata": {},
   "outputs": [
    {
     "name": "stdout",
     "output_type": "stream",
     "text": [
      "Area of circle: 171.95\n",
      "Circumference of circle: 46.47\n",
      "Volume of sphere: 1696.54\n",
      "Surface area of sphere: 687.79\n"
     ]
    }
   ],
   "source": [
    "print(\"Area of circle:\", round(area, 2))\n",
    "print(\"Circumference of circle:\", round(circumference, 2))\n",
    "print(\"Volume of sphere:\", round(volume, 2))\n",
    "print(\"Surface area of sphere:\", round(surface_area, 2))\n"
   ]
  },
  {
   "cell_type": "code",
   "execution_count": null,
   "id": "122db779",
   "metadata": {},
   "outputs": [],
   "source": []
  },
  {
   "cell_type": "code",
   "execution_count": null,
   "id": "f794ef25",
   "metadata": {},
   "outputs": [],
   "source": []
  },
  {
   "cell_type": "markdown",
   "id": "protected-association",
   "metadata": {},
   "source": [
    "## Question 10:\n",
    "    Write a program that asks the user for the lengths of the sides of a rectangle. Then print\n",
    "- The area and perimeter of the rectangle\n",
    "- The length of the diagonal"
   ]
  },
  {
   "cell_type": "markdown",
   "id": "turned-branch",
   "metadata": {},
   "source": [
    "![](area-and-perimeter-806x1024.jpg)"
   ]
  },
  {
   "cell_type": "markdown",
   "id": "artificial-celebrity",
   "metadata": {},
   "source": [
    "![](diagonal-of-a-rectangle-formula-1623341935.png)"
   ]
  },
  {
   "cell_type": "code",
   "execution_count": 17,
   "id": "heavy-football",
   "metadata": {},
   "outputs": [
    {
     "name": "stdout",
     "output_type": "stream",
     "text": [
      "Enter the length of the rectangle: 4\n",
      "Enter the width of the rectangle: 5.4\n"
     ]
    }
   ],
   "source": [
    "# Here write your answer\n",
    "\n",
    "length = float(input(\"Enter the length of the rectangle: \"))\n",
    "width = float(input(\"Enter the width of the rectangle: \"))\n",
    "\n",
    "area = length * width\n",
    "perimeter = 2 * (length + width)\n",
    "diagonal = ((length ** 2) + (width ** 2)) ** 0.5\n",
    "\n"
   ]
  },
  {
   "cell_type": "code",
   "execution_count": 18,
   "id": "naughty-locator",
   "metadata": {},
   "outputs": [
    {
     "name": "stdout",
     "output_type": "stream",
     "text": [
      "Area:  21.6\n",
      "Perimeter:  18.8\n",
      "Diagonal:  6.7201190465645775\n"
     ]
    }
   ],
   "source": [
    "print(\"Area: \", area)\n",
    "print(\"Perimeter: \", perimeter)\n",
    "print(\"Diagonal: \", diagonal)"
   ]
  },
  {
   "cell_type": "code",
   "execution_count": null,
   "id": "4bba7bc1",
   "metadata": {},
   "outputs": [],
   "source": []
  },
  {
   "cell_type": "markdown",
   "id": "funded-special",
   "metadata": {},
   "source": [
    "## Question 11:\n",
    "    Write a program that reads a number between 10,000 and 999,999 from the user, where the user enters a comma in the input. Then print the number without a comma. Here is a sample dialog; the user input is in color:\n",
    "    Please enter an integer between 10,000 and 99,999: 23,456 \n",
    "**Output :** 23456    \n",
    "**Hint:**    \n",
    "    Read the input as a string. Turn the strings consisting of the first two characters and the last three characters into numbers, and combine them."
   ]
  },
  {
   "cell_type": "markdown",
   "id": "a38a32cb",
   "metadata": {},
   "source": [
    "### First Method"
   ]
  },
  {
   "cell_type": "code",
   "execution_count": 21,
   "id": "dominant-dakota",
   "metadata": {},
   "outputs": [
    {
     "name": "stdout",
     "output_type": "stream",
     "text": [
      "Please enter an integer between 10,000 and 99,999: 23,456\n"
     ]
    },
    {
     "data": {
      "text/plain": [
       "23456"
      ]
     },
     "execution_count": 21,
     "metadata": {},
     "output_type": "execute_result"
    }
   ],
   "source": [
    "# Here write your answer\n",
    "num_str = input(\"Please enter an integer between 10,000 and 99,999: \")\n",
    "\n",
    "# Splitting the string into two parts\n",
    "part1 = num_str[:2]\n",
    "part2 = num_str[-3:]\n",
    "\n",
    "# Converting the parts into integers\n",
    "part1 = int(part1)\n",
    "part2 = int(part2)\n",
    "\n",
    "# Combining the two parts\n",
    "num = part1 * 1000 + part2\n",
    "\n",
    "num"
   ]
  },
  {
   "cell_type": "code",
   "execution_count": null,
   "id": "short-chicken",
   "metadata": {},
   "outputs": [],
   "source": []
  },
  {
   "cell_type": "markdown",
   "id": "a1350eea",
   "metadata": {},
   "source": [
    "### Second Method"
   ]
  },
  {
   "cell_type": "code",
   "execution_count": 20,
   "id": "75b81a39",
   "metadata": {},
   "outputs": [
    {
     "name": "stdout",
     "output_type": "stream",
     "text": [
      "Please enter an integer between 10,000 and 99,999: 23,456\n"
     ]
    },
    {
     "data": {
      "text/plain": [
       "23456"
      ]
     },
     "execution_count": 20,
     "metadata": {},
     "output_type": "execute_result"
    }
   ],
   "source": [
    "num = input(\"Please enter an integer between 10,000 and 99,999: \")\n",
    "num = num.replace(\",\", \"\")\n",
    "num = int(num)\n",
    "num"
   ]
  },
  {
   "cell_type": "code",
   "execution_count": null,
   "id": "2a9170a6",
   "metadata": {},
   "outputs": [],
   "source": []
  },
  {
   "cell_type": "code",
   "execution_count": null,
   "id": "9b4dbb1c",
   "metadata": {},
   "outputs": [],
   "source": []
  },
  {
   "cell_type": "markdown",
   "id": "transparent-strike",
   "metadata": {},
   "source": [
    "## Question 12:\n",
    "    Write a program that reads a number between 1,000 and 999,999 from the user and prints it with a comma separating the thousands. \n",
    "Here is a sample dialog; the user input is in color:     \n",
    "**Please enter an integer between 1000 and 999999: 23456**   \n",
    "**Output: 23,456**"
   ]
  },
  {
   "cell_type": "markdown",
   "id": "c873a22d",
   "metadata": {},
   "source": [
    "#### First Method"
   ]
  },
  {
   "cell_type": "code",
   "execution_count": 23,
   "id": "physical-florida",
   "metadata": {},
   "outputs": [
    {
     "name": "stdout",
     "output_type": "stream",
     "text": [
      "Please enter an integer between 1000 and 999999: 54543\n"
     ]
    },
    {
     "data": {
      "text/plain": [
       "'54,543'"
      ]
     },
     "execution_count": 23,
     "metadata": {},
     "output_type": "execute_result"
    }
   ],
   "source": [
    "# Here write your answer\n",
    "\n",
    "def add_comma_separator(number):\n",
    "    number_str = str(number)\n",
    "    length = len(number_str)\n",
    "    if length < 4 or length > 6:\n",
    "        return \"Invalid input. Please enter a number between 1000 and 999999.\"\n",
    "    else:\n",
    "        return ','.join([number_str[:length-3], number_str[length-3:]])\n",
    "\n",
    "while True:\n",
    "    user_input = input(\"Please enter an integer between 1000 and 999999: \")\n",
    "    if user_input.isdigit():\n",
    "        number = int(user_input)\n",
    "        if 1000 <= number <= 999999:\n",
    "            break\n",
    "    print(\"Invalid input. Please enter a number between 1000 and 999999.\")\n",
    "\n",
    "add_comma_separator(number)\n"
   ]
  },
  {
   "cell_type": "code",
   "execution_count": null,
   "id": "5e5a584c",
   "metadata": {},
   "outputs": [],
   "source": []
  },
  {
   "cell_type": "code",
   "execution_count": null,
   "id": "11a37e19",
   "metadata": {},
   "outputs": [],
   "source": []
  },
  {
   "cell_type": "markdown",
   "id": "be8ca007",
   "metadata": {},
   "source": [
    "#### Second Method"
   ]
  },
  {
   "cell_type": "code",
   "execution_count": 24,
   "id": "67372974",
   "metadata": {},
   "outputs": [
    {
     "name": "stdout",
     "output_type": "stream",
     "text": [
      "Please enter an integer between 1000 and 999999: 445543\n"
     ]
    },
    {
     "data": {
      "text/plain": [
       "'445,543'"
      ]
     },
     "execution_count": 24,
     "metadata": {},
     "output_type": "execute_result"
    }
   ],
   "source": [
    "def format_number(num):\n",
    "    return '{:,}'.format(num)\n",
    "\n",
    "num = int(input(\"Please enter an integer between 1000 and 999999: \"))\n",
    "format_number(num)"
   ]
  },
  {
   "cell_type": "code",
   "execution_count": null,
   "id": "c8d84f89",
   "metadata": {},
   "outputs": [],
   "source": []
  },
  {
   "cell_type": "code",
   "execution_count": null,
   "id": "democratic-hawaiian",
   "metadata": {},
   "outputs": [],
   "source": []
  },
  {
   "cell_type": "markdown",
   "id": "eastern-organic",
   "metadata": {},
   "source": [
    "## Question 13:\n",
    "    Write a program that reads a five-digit positive integer and breaks it into a sequence of individual digits. For example, the input 16384 is displayed as\n",
    "**Output : 1 6 3 8 4**"
   ]
  },
  {
   "cell_type": "markdown",
   "id": "b1ab7fee",
   "metadata": {},
   "source": [
    "#### First Method"
   ]
  },
  {
   "cell_type": "code",
   "execution_count": 25,
   "id": "junior-bacon",
   "metadata": {},
   "outputs": [
    {
     "name": "stdout",
     "output_type": "stream",
     "text": [
      "Enter a five-digit positive integer: 45432\n",
      "4 5 4 3 2\n"
     ]
    }
   ],
   "source": [
    "# Here write your answer\n",
    "number = int(input(\"Enter a five-digit positive integer: \"))\n",
    "\n",
    "first_digit = number // 10000\n",
    "remainder = number % 10000\n",
    "\n",
    "second_digit = remainder // 1000\n",
    "remainder = remainder % 1000\n",
    "\n",
    "third_digit = remainder // 100\n",
    "remainder = remainder % 100\n",
    "\n",
    "fourth_digit = remainder // 10\n",
    "\n",
    "fifth_digit = remainder % 10\n",
    "\n",
    "print(first_digit, second_digit, third_digit, fourth_digit, fifth_digit)\n"
   ]
  },
  {
   "cell_type": "code",
   "execution_count": null,
   "id": "4ec37b72",
   "metadata": {},
   "outputs": [],
   "source": []
  },
  {
   "cell_type": "markdown",
   "id": "61a86d0a",
   "metadata": {},
   "source": [
    "#### Second Method"
   ]
  },
  {
   "cell_type": "code",
   "execution_count": 28,
   "id": "3ad06da0",
   "metadata": {},
   "outputs": [
    {
     "name": "stdout",
     "output_type": "stream",
     "text": [
      "Enter a five-digit integer: 43432\n",
      "4 3 4 3 2 "
     ]
    }
   ],
   "source": [
    "number = input(\"Enter a five-digit integer: \")\n",
    "for digit in number:\n",
    "    print(digit, sep=\" \", end=\" \")\n"
   ]
  },
  {
   "cell_type": "code",
   "execution_count": null,
   "id": "793f7a03",
   "metadata": {},
   "outputs": [],
   "source": []
  },
  {
   "cell_type": "code",
   "execution_count": null,
   "id": "f65b296f",
   "metadata": {},
   "outputs": [],
   "source": []
  },
  {
   "cell_type": "code",
   "execution_count": null,
   "id": "2033ad60",
   "metadata": {},
   "outputs": [],
   "source": []
  },
  {
   "cell_type": "code",
   "execution_count": null,
   "id": "medium-helena",
   "metadata": {},
   "outputs": [],
   "source": []
  },
  {
   "cell_type": "markdown",
   "id": "excited-corruption",
   "metadata": {},
   "source": [
    "## Question 14:\n",
    "Write a program that initializes a string variable and prints the first three characters,followed by three periods, and then the last three characters. For example, \n",
    "if the string is initialized to    \n",
    "**Ehtisham**        \n",
    "then print   \n",
    "**Eht...ham** "
   ]
  },
  {
   "cell_type": "markdown",
   "id": "9f950a99",
   "metadata": {},
   "source": [
    "#### First Method"
   ]
  },
  {
   "cell_type": "code",
   "execution_count": 32,
   "id": "periodic-surgery",
   "metadata": {},
   "outputs": [
    {
     "name": "stdout",
     "output_type": "stream",
     "text": [
      "Enter a string: Ali sadiq\n"
     ]
    },
    {
     "data": {
      "text/plain": [
       "'Ali...diq'"
      ]
     },
     "execution_count": 32,
     "metadata": {},
     "output_type": "execute_result"
    }
   ],
   "source": [
    "# Here write your answer\n",
    "def print_short_string(s):\n",
    "    if len(s) > 6:\n",
    "        return s[:3] + \"...\" + s[-3:]\n",
    "    else:\n",
    "        return s\n",
    "\n",
    "string = input(\"Enter a string: \")\n",
    "\n",
    "\n",
    "print_short_string(string)\n"
   ]
  },
  {
   "cell_type": "code",
   "execution_count": null,
   "id": "e2a2f4ac",
   "metadata": {},
   "outputs": [],
   "source": []
  },
  {
   "cell_type": "markdown",
   "id": "02ef4c94",
   "metadata": {},
   "source": [
    "#### Second Method"
   ]
  },
  {
   "cell_type": "code",
   "execution_count": 31,
   "id": "59a33149",
   "metadata": {},
   "outputs": [
    {
     "data": {
      "text/plain": [
       "'Eht...ham'"
      ]
     },
     "execution_count": 31,
     "metadata": {},
     "output_type": "execute_result"
    }
   ],
   "source": [
    "def print_first_last_3(string):\n",
    "    return string[:3] + '...' + string[-3:]\n",
    "\n",
    "input_string = \"Ehtisham\"\n",
    "print_first_last_3(input_string)"
   ]
  },
  {
   "cell_type": "code",
   "execution_count": null,
   "id": "908fd8c3",
   "metadata": {},
   "outputs": [],
   "source": []
  },
  {
   "cell_type": "code",
   "execution_count": null,
   "id": "c2086819",
   "metadata": {},
   "outputs": [],
   "source": []
  },
  {
   "cell_type": "code",
   "execution_count": null,
   "id": "creative-material",
   "metadata": {},
   "outputs": [],
   "source": []
  },
  {
   "cell_type": "markdown",
   "id": "growing-chess",
   "metadata": {},
   "source": [
    "## Question 15:\n",
    "Write a program that calculates the total amount of a meal purchased at a restaurant. \n",
    "The program should ask the user to enter the charge for the food, and then calculate the \n",
    "amount of a 15 percent tip and 7 percent sales tax. Display each of these amounts and \n",
    "the total (sum of all three mentioned above)."
   ]
  },
  {
   "cell_type": "markdown",
   "id": "b4842453",
   "metadata": {},
   "source": [
    "#### First Method"
   ]
  },
  {
   "cell_type": "code",
   "execution_count": 36,
   "id": "eligible-improvement",
   "metadata": {},
   "outputs": [
    {
     "name": "stdout",
     "output_type": "stream",
     "text": [
      "Enter the charge for the food: $6\n",
      "Food Charge: $6.00\n",
      "Tip : $0.90\n",
      "Tax : $0.42\n",
      "Total: $7.32\n"
     ]
    }
   ],
   "source": [
    "# Here write your answer\n",
    "\n",
    "food_charge = float(input(\"Enter the charge for the food: $\"))\n",
    "tip = food_charge * 0.15\n",
    "tax = food_charge * 0.07\n",
    "total = food_charge + tip + tax\n",
    "\n",
    "print(\"Food Charge: $%.2f\" % food_charge)\n",
    "print(\"Tip : $%.2f\" % tip)\n",
    "print(\"Tax : $%.2f\" % tax)\n",
    "print(\"Total: $%.2f\" % total)\n"
   ]
  },
  {
   "cell_type": "code",
   "execution_count": null,
   "id": "547c66e8",
   "metadata": {},
   "outputs": [],
   "source": []
  },
  {
   "cell_type": "markdown",
   "id": "fd370068",
   "metadata": {},
   "source": [
    "#### Second Method"
   ]
  },
  {
   "cell_type": "code",
   "execution_count": 34,
   "id": "connected-timber",
   "metadata": {},
   "outputs": [
    {
     "name": "stdout",
     "output_type": "stream",
     "text": [
      "Enter the charge for the food: 4\n",
      "Tip: $0.60\n",
      "Tax: $0.28\n",
      "Total: $4.88\n"
     ]
    }
   ],
   "source": [
    "def calculate_total_amount(food_charge):\n",
    "    tip = food_charge * 0.15\n",
    "    tax = food_charge * 0.07\n",
    "    total = food_charge + tip + tax\n",
    "    return total\n",
    "\n",
    "if __name__ == '__main__':\n",
    "    food_charge = float(input(\"Enter the charge for the food: \"))\n",
    "    total = calculate_total_amount(food_charge)\n",
    "    print(\"Tip: $%.2f\" % (food_charge * 0.15))\n",
    "    print(\"Tax: $%.2f\" % (food_charge * 0.07))\n",
    "    print(\"Total: $%.2f\" % total)\n"
   ]
  },
  {
   "cell_type": "code",
   "execution_count": null,
   "id": "subsequent-guarantee",
   "metadata": {},
   "outputs": [],
   "source": []
  },
  {
   "cell_type": "code",
   "execution_count": null,
   "id": "empty-impossible",
   "metadata": {},
   "outputs": [],
   "source": []
  },
  {
   "cell_type": "code",
   "execution_count": null,
   "id": "toxic-picking",
   "metadata": {},
   "outputs": [],
   "source": []
  }
 ],
 "metadata": {
  "kernelspec": {
   "display_name": "Python 3 (ipykernel)",
   "language": "python",
   "name": "python3"
  },
  "language_info": {
   "codemirror_mode": {
    "name": "ipython",
    "version": 3
   },
   "file_extension": ".py",
   "mimetype": "text/x-python",
   "name": "python",
   "nbconvert_exporter": "python",
   "pygments_lexer": "ipython3",
   "version": "3.8.10"
  }
 },
 "nbformat": 4,
 "nbformat_minor": 5
}

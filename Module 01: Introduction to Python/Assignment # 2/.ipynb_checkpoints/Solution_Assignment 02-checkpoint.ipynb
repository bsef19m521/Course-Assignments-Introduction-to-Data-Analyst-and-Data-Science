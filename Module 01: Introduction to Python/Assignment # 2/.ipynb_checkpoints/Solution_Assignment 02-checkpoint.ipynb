{
 "cells": [
  {
   "cell_type": "markdown",
   "id": "strong-value",
   "metadata": {},
   "source": [
    "Write your asnwers according to your concepts and after solving this assignment, submit this notebook in google classroom.\n",
    "Mention User name like this **Assignment 02 (Name)**"
   ]
  },
  {
   "cell_type": "markdown",
   "id": "protective-damage",
   "metadata": {},
   "source": [
    "#### 1. What does a professional programmer usually do first to gain an understanding of a problem?"
   ]
  },
  {
   "cell_type": "code",
   "execution_count": 1,
   "id": "prompt-glenn",
   "metadata": {},
   "outputs": [],
   "source": [
    "# Here write your answer\n",
    "# A professional programmer usually do comments first to gain an understanding of a problem."
   ]
  },
  {
   "cell_type": "code",
   "execution_count": null,
   "id": "91f4d4c6",
   "metadata": {},
   "outputs": [],
   "source": []
  },
  {
   "cell_type": "markdown",
   "id": "efficient-privilege",
   "metadata": {},
   "source": [
    "#### 2. If a math expression adds a float to an int, what will the data type of the result be?What is the difference between floating-point division and integer division?"
   ]
  },
  {
   "cell_type": "code",
   "execution_count": 2,
   "id": "organizational-israeli",
   "metadata": {},
   "outputs": [
    {
     "name": "stdout",
     "output_type": "stream",
     "text": [
      "6.2\n",
      "<class 'float'>\n"
     ]
    }
   ],
   "source": [
    "# Here write your answer\n",
    "expr = 3.2 + 3\n",
    "print(expr)\n",
    "print(type(expr))"
   ]
  },
  {
   "cell_type": "code",
   "execution_count": 1,
   "id": "7d467320",
   "metadata": {},
   "outputs": [
    {
     "name": "stdout",
     "output_type": "stream",
     "text": [
      "1.6666666666666667\n",
      "1\n"
     ]
    }
   ],
   "source": [
    "print(5/3)\n",
    "print(5//3)"
   ]
  },
  {
   "cell_type": "markdown",
   "id": "split-lewis",
   "metadata": {},
   "source": [
    "#### 3. Write a program in which take two numbers from user by using built-in function and perform folllowing arithmetic operation\n",
    "    i. Addition    \n",
    "    ii. Subtraction    \n",
    "    iii. Multiplication    \n",
    "    iv. Division   "
   ]
  },
  {
   "cell_type": "code",
   "execution_count": 2,
   "id": "later-failing",
   "metadata": {},
   "outputs": [
    {
     "name": "stdout",
     "output_type": "stream",
     "text": [
      "Enter first Number : 32\n",
      "Enter second number : -12\n",
      "<class 'int'>\n",
      "<class 'int'>\n"
     ]
    }
   ],
   "source": [
    "# Here write your answer\n",
    "number1 = int(input(\"Enter first Number : \"))\n",
    "number2 = int(input(\"Enter second number : \"))\n",
    "print(type(number1))\n",
    "print(type(number2))"
   ]
  },
  {
   "cell_type": "code",
   "execution_count": 3,
   "id": "allied-prime",
   "metadata": {},
   "outputs": [
    {
     "name": "stdout",
     "output_type": "stream",
     "text": [
      "Addition : 20\n",
      "Subtraction :  44\n",
      "Multiplication :  -384\n",
      "Division :  -2.6666666666666665\n"
     ]
    }
   ],
   "source": [
    "print(\"Addition :\", number1+number2)\n",
    "print(\"Subtraction : \", number1-number2)\n",
    "print(\"Multiplication : \", number1*number2)\n",
    "print(\"Division : \", number1/number2)"
   ]
  },
  {
   "cell_type": "code",
   "execution_count": null,
   "id": "48307945",
   "metadata": {},
   "outputs": [],
   "source": []
  },
  {
   "cell_type": "code",
   "execution_count": null,
   "id": "0cd7152d",
   "metadata": {},
   "outputs": [],
   "source": []
  },
  {
   "cell_type": "markdown",
   "id": "personal-singer",
   "metadata": {},
   "source": [
    "#### 4. Write a program to calculate area of triangle by using following formula , in this program takes all input from user by using built-in function.    \n",
    "\n",
    "**Area of a triangle** = $\\sqrt{(s*(s-a)*(s-b)*(s-c))}$   \n",
    "**s** = $\\frac{a+b+c}{2}$"
   ]
  },
  {
   "cell_type": "code",
   "execution_count": 4,
   "id": "married-direction",
   "metadata": {},
   "outputs": [
    {
     "name": "stdout",
     "output_type": "stream",
     "text": [
      "Enter length of one First side : 3\n",
      "Enter length of second side : 4\n",
      "Enter length of third side : 2\n"
     ]
    }
   ],
   "source": [
    "# Here write your answer\n",
    "a = int(input(\"Enter length of one First side : \"))\n",
    "b = int(input(\"Enter length of second side : \"))\n",
    "c = int(input(\"Enter length of third side : \"))\n"
   ]
  },
  {
   "cell_type": "code",
   "execution_count": 5,
   "id": "1a6d7803",
   "metadata": {},
   "outputs": [
    {
     "name": "stdout",
     "output_type": "stream",
     "text": [
      "Area of Triangle having sides  3 4 2  is :  4.21875\n"
     ]
    }
   ],
   "source": [
    "# s =  a+b+c/2\n",
    "s = (a+b+c)/2\n",
    "area_of_triangle = ((s*(s-a)*(s-b)*(s-c))**1/2)\n",
    "print(\"Area of Triangle having sides \", a,b,c, ' is : ', area_of_triangle)"
   ]
  },
  {
   "cell_type": "code",
   "execution_count": null,
   "id": "0a23e0ef",
   "metadata": {},
   "outputs": [],
   "source": []
  },
  {
   "cell_type": "markdown",
   "id": "gothic-shadow",
   "metadata": {},
   "source": [
    "#### 5. Write a program in which take two numbers from user and swap them."
   ]
  },
  {
   "cell_type": "code",
   "execution_count": 6,
   "id": "developmental-savings",
   "metadata": {},
   "outputs": [],
   "source": [
    "# Here write your answer\n",
    "number1 = int(input(\"Enter First Number : \"))\n",
    "number2 = int(input(\"Enter Second Number : \"))\n",
    "print(number1)\n",
    "print(number2)"
   ]
  },
  {
   "cell_type": "code",
   "execution_count": null,
   "id": "vanilla-float",
   "metadata": {},
   "outputs": [],
   "source": [
    "print(\"Before Swapping numbers are : \", number1, number2)\n",
    "\n",
    "# multi-variables concept\n",
    "# a, b, c = number2,3,number1\n",
    "\n",
    "# overwrite \n",
    "number1, number2 = number2, number1\n",
    "\n",
    "# number1(23)\n",
    "# number2(55)\n",
    "\n",
    "\n",
    "print(\"After Swapping numbers are : \", number1, number2)"
   ]
  },
  {
   "cell_type": "code",
   "execution_count": null,
   "id": "ffa247e0",
   "metadata": {},
   "outputs": [],
   "source": []
  },
  {
   "cell_type": "code",
   "execution_count": null,
   "id": "391208e8",
   "metadata": {},
   "outputs": [],
   "source": []
  },
  {
   "cell_type": "markdown",
   "id": "impressive-upset",
   "metadata": {},
   "source": [
    "#### 6. Write a program that prompts the user to input a Celsius temperature and outputs the equivalent temperature in Fahrenheit. The formula to convert the temperature is: $F = \\frac{9}{5} C + 32$ where F is the Fahrenheit temperature and C is the Celsius temperature. "
   ]
  },
  {
   "cell_type": "code",
   "execution_count": 7,
   "id": "endless-gilbert",
   "metadata": {},
   "outputs": [],
   "source": [
    "# Here write your answer\n",
    "C = float(input(\"Enter temperature in Celsius : \"))\n",
    "F = (9/5)* C + 32\n",
    "print(\"Temperature of \", C,\"in Fahrenhnite is \", F)"
   ]
  },
  {
   "cell_type": "code",
   "execution_count": null,
   "id": "treated-monaco",
   "metadata": {},
   "outputs": [],
   "source": []
  },
  {
   "cell_type": "markdown",
   "id": "sixth-diana",
   "metadata": {},
   "source": [
    "#### 7. Write a program that accepts seconds from user as integer. Your program should converts seconds in hours, minutes and seconds."
   ]
  },
  {
   "cell_type": "code",
   "execution_count": 6,
   "id": "cellular-stomach",
   "metadata": {},
   "outputs": [
    {
     "name": "stdout",
     "output_type": "stream",
     "text": [
      "Enter seconds: 47390\n"
     ]
    }
   ],
   "source": [
    "# Here write your answer\n",
    "\n",
    "seconds = int(input(\"Enter seconds: \"))\n",
    "\n",
    "hours = seconds // 3600\n",
    "seconds = seconds % 3600\n",
    "\n",
    "minutes = seconds // 60\n",
    "seconds = seconds % 60\n",
    "\n"
   ]
  },
  {
   "cell_type": "code",
   "execution_count": 7,
   "id": "993f9891",
   "metadata": {},
   "outputs": [
    {
     "name": "stdout",
     "output_type": "stream",
     "text": [
      "Hours :  13\n",
      "Minutes :  9\n",
      "Seconds :  50\n"
     ]
    }
   ],
   "source": [
    "print(\"Hours : \", hours)\n",
    "print(\"Minutes : \", minutes)\n",
    "print(\"Seconds : \", seconds)"
   ]
  },
  {
   "cell_type": "code",
   "execution_count": null,
   "id": "577d8898",
   "metadata": {},
   "outputs": [],
   "source": []
  },
  {
   "cell_type": "markdown",
   "id": "official-diamond",
   "metadata": {},
   "source": [
    "#### 8. Write a program which accept principle, rate and time from user and print the simple interest. The formula to calculate simple interest is:   \n",
    "**simple interest** = $\\frac{(principle)(rate) (time)}{100}$"
   ]
  },
  {
   "cell_type": "code",
   "execution_count": 9,
   "id": "048f0d0d",
   "metadata": {},
   "outputs": [
    {
     "name": "stdout",
     "output_type": "stream",
     "text": [
      "Enter principle amount: 36\n",
      "Enter rate of interest: 2\n",
      "Enter time (in years): 4\n",
      "Simple interest: 2.88\n"
     ]
    }
   ],
   "source": [
    "# Here write your answer\n",
    "\n",
    "\n",
    "# def simple_interest(principle, rate, time):\n",
    "#   return principle * rate * time / 100\n",
    "\n",
    "principle = float(input(\"Enter principle amount: \"))\n",
    "rate = float(input(\"Enter rate of interest: \"))\n",
    "time = float(input(\"Enter time (in years): \"))\n",
    "\n",
    "simple_interest = (principle * rate *time)/100\n",
    "print(\"Simple interest:\", simple_interest)\n"
   ]
  },
  {
   "cell_type": "code",
   "execution_count": null,
   "id": "08c18bfd",
   "metadata": {},
   "outputs": [],
   "source": []
  },
  {
   "cell_type": "markdown",
   "id": "driving-qualification",
   "metadata": {},
   "source": [
    "## 9. Distance Traveled \n",
    "Write a program to calculate the distance traveled by a car , assuming there are no accidents or delays, the distance that a car travels down the inter-state can be calculated with the following formula:\n",
    "**Distance = Speed * Time**   \n",
    "A car is traveling at 60 miles per hour. Write a program that displays the following:  \n",
    "• The distance the car will travel in 5 hours        \n",
    "• The distance the car will travel in 8 hours     \n",
    "• The distance the car will travel in 12 hours    "
   ]
  },
  {
   "cell_type": "code",
   "execution_count": 10,
   "id": "489c12f2",
   "metadata": {},
   "outputs": [
    {
     "name": "stdout",
     "output_type": "stream",
     "text": [
      "The distance the car will travel in 5 hours:  300 miles\n",
      "The distance the car will travel in 8 hours:  480 miles\n",
      "The distance the car will travel in 12 hours:  720 miles\n"
     ]
    }
   ],
   "source": [
    "# Here write your answer\n",
    "\n",
    "def distance_traveled(speed, time):\n",
    "    return speed * time\n",
    "\n",
    "speed = 60\n",
    "\n",
    "print(\"The distance the car will travel in 5 hours: \", distance_traveled(speed, 5), \"miles\")\n",
    "print(\"The distance the car will travel in 8 hours: \", distance_traveled(speed, 8), \"miles\")\n",
    "print(\"The distance the car will travel in 12 hours: \", distance_traveled(speed, 12), \"miles\")\n"
   ]
  },
  {
   "cell_type": "code",
   "execution_count": null,
   "id": "f1c495a1",
   "metadata": {},
   "outputs": [],
   "source": []
  },
  {
   "cell_type": "markdown",
   "id": "sunrise-traffic",
   "metadata": {},
   "source": [
    "## 10. Stock Transaction Program\n",
    "Last month Joe purchased some stock in Acme Software, Inc. Here are the details of the\n",
    "purchase:\n",
    "* The number of shares that Joe purchased was 1,000.    \n",
    "* When Joe purchased the stock, he paid $32.87 per share.   \n",
    "* Joe paid his stockbroker a commission that amounted to 2 percent of the amount he paid\n",
    "for the stock.   \n",
    "\n",
    "Two weeks later Joe sold the stock. Here are the details of the sale: \n",
    "* The number of shares that Joe sold was 1,000.\n",
    "* He sold the stock for $33.92 per share.\n",
    "* He paid his stockbroker another commission that amounted to 2 percent of the amount\n",
    "  he received for the stock.\n",
    "\n",
    "Write a program that displays the following information:\n",
    "* The amount of money Joe paid for the stock.\n",
    "* The amount of commission Joe paid his broker when he bought the stock.\n",
    "* The amount that Joe sold the stock for.\n",
    "* The amount of commission Joe paid his broker when he sold the stock.\n",
    "* Display the amount of money that Joe had left when he sold the stock and paid his\n",
    "  broker (both times). If this amount is positive, then Joe made a profit. If the amount is negative, then Joe lost money"
   ]
  },
  {
   "cell_type": "code",
   "execution_count": 15,
   "id": "south-summit",
   "metadata": {},
   "outputs": [],
   "source": [
    "# Here write your answer\n",
    "\n",
    "shares = 1000\n",
    "buy_price = 32.87\n",
    "sell_price = 33.92\n",
    "commission_rate = 2\n",
    "    \n",
    "\n",
    "\n",
    "# Calculate the amount of money Joe paid for the stock\n",
    "amount_paid = shares * buy_price\n",
    "\n",
    "# Calculate the commission paid to the broker when buying the stock\n",
    "commission_buy = amount_paid * (commission_rate / 100)\n",
    "\n",
    "# Calculate the amount that Joe sold the stock for\n",
    "amount_sold = shares * sell_price\n",
    "\n",
    "# Calculate the commission paid to the broker when selling the stock\n",
    "commission_sell = amount_sold * (commission_rate / 100)\n",
    "\n",
    "# Calculate the profit/loss\n",
    "profit = amount_sold - amount_paid - commission_buy - commission_sell\n",
    "\n",
    "\n"
   ]
  },
  {
   "cell_type": "code",
   "execution_count": 16,
   "id": "68120a8b",
   "metadata": {},
   "outputs": [
    {
     "name": "stdout",
     "output_type": "stream",
     "text": [
      "Amount of money Joe paid for the stock: $32870.00\n",
      "Amount of commission Joe paid his broker when he bought the stock: $657.40\n",
      "Amount that Joe sold the stock for: $33920.00\n",
      "Amount of commission Joe paid his broker when he sold the stock: $678.40\n",
      "Joe lost money with a loss of $285.80\n"
     ]
    }
   ],
   "source": [
    "# Display the amount of money Joe paid for the stock\n",
    "print(\"Amount of money Joe paid for the stock: $%.2f\" % amount_paid)\n",
    "\n",
    "# Display the amount of commission Joe paid his broker when he bought the stock\n",
    "print(\"Amount of commission Joe paid his broker when he bought the stock: $%.2f\" % (commission_buy))\n",
    "\n",
    "# Display the amount that Joe sold the stock for\n",
    "print(\"Amount that Joe sold the stock for: $%.2f\" % amount_sold)\n",
    "\n",
    "# Display the amount of commission Joe paid his broker when he sold the stock\n",
    "print(\"Amount of commission Joe paid his broker when he sold the stock: $%.2f\" % (commission_sell))\n",
    "\n",
    "# Display the profit/loss\n",
    "if profit > 0:\n",
    "    print(\"Joe made a profit of $%.2f\" % (profit))\n",
    "else:\n",
    "    print(\"Joe lost money with a loss of $%.2f\" % (abs(profit)))\n",
    "\n"
   ]
  },
  {
   "cell_type": "code",
   "execution_count": null,
   "id": "a1a1e961",
   "metadata": {},
   "outputs": [],
   "source": []
  }
 ],
 "metadata": {
  "kernelspec": {
   "display_name": "Python 3 (ipykernel)",
   "language": "python",
   "name": "python3"
  },
  "language_info": {
   "codemirror_mode": {
    "name": "ipython",
    "version": 3
   },
   "file_extension": ".py",
   "mimetype": "text/x-python",
   "name": "python",
   "nbconvert_exporter": "python",
   "pygments_lexer": "ipython3",
   "version": "3.8.10"
  }
 },
 "nbformat": 4,
 "nbformat_minor": 5
}

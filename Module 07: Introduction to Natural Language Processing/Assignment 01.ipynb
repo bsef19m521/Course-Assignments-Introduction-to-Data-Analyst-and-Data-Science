{
 "cells": [
  {
   "cell_type": "markdown",
   "id": "e8020f39",
   "metadata": {},
   "source": [
    "Write your asnwers according to your concepts and after solving this assignment, submit this notebook in google classroom. Mention User name like this **M7: Assignment 01 (Name)**\n",
    "\n"
   ]
  },
  {
   "cell_type": "markdown",
   "id": "95b5c92c",
   "metadata": {},
   "source": [
    "## Question 01\n",
    "\n",
    "\n",
    "**In this task, we have to find the frequency of words in a webpage. User can use urllib and BeautifulSoup to extract text from webpage.**"
   ]
  },
  {
   "cell_type": "code",
   "execution_count": null,
   "id": "b98fbda1",
   "metadata": {},
   "outputs": [],
   "source": []
  },
  {
   "cell_type": "code",
   "execution_count": 4,
   "id": "56d198ab",
   "metadata": {},
   "outputs": [],
   "source": [
    "response = urllib.request.urlopen('https://en.wikipedia.org/wiki/Avengers:_Endgame')\n",
    "html = response.read()\n",
    "raw = BeautifulSoup(html,\"html5lib\").get_text()"
   ]
  },
  {
   "cell_type": "code",
   "execution_count": 5,
   "id": "d92c3f8f",
   "metadata": {},
   "outputs": [
    {
     "name": "stderr",
     "output_type": "stream",
     "text": [
      "[nltk_data] Downloading package punkt to /home/dell/nltk_data...\n",
      "[nltk_data]   Package punkt is already up-to-date!\n"
     ]
    }
   ],
   "source": [
    "nltk.download('punkt')\n",
    "words = nltk.word_tokenize(raw)"
   ]
  },
  {
   "cell_type": "code",
   "execution_count": 6,
   "id": "0c0d1a67",
   "metadata": {},
   "outputs": [
    {
     "name": "stdout",
     "output_type": "stream",
     "text": [
      "the; 1096\n",
      "''; 1089\n",
      "``; 411\n",
      "and; 351\n",
      "of; 316\n",
      "on; 309\n",
      "in; 306\n",
      "from; 279\n",
      "to; 243\n",
      "avengers; 240\n",
      "original; 214\n",
      "retrieved; 214\n",
      "archived; 212\n",
      "april; 202\n",
      ".mw-parser-output; 201\n",
      "'s; 189\n",
      "endgame; 187\n",
      "film; 164\n",
      "as; 144\n",
      "may; 136\n",
      "for; 125\n",
      "with; 104\n",
      "marvel; 98\n",
      "was; 94\n",
      "'avengers; 84\n",
      "that; 83\n",
      "war; 80\n",
      "films; 79\n",
      "million; 78\n",
      "infinity; 75\n"
     ]
    }
   ],
   "source": [
    "# Here write your answer"
   ]
  },
  {
   "cell_type": "code",
   "execution_count": null,
   "id": "9cdf6929",
   "metadata": {},
   "outputs": [],
   "source": []
  },
  {
   "cell_type": "code",
   "execution_count": null,
   "id": "e9f76f17",
   "metadata": {},
   "outputs": [],
   "source": []
  },
  {
   "cell_type": "markdown",
   "id": "2b49b4cd",
   "metadata": {},
   "source": [
    "## Question 02"
   ]
  },
  {
   "cell_type": "code",
   "execution_count": null,
   "id": "f37a0de5",
   "metadata": {},
   "outputs": [],
   "source": []
  }
 ],
 "metadata": {
  "kernelspec": {
   "display_name": "Python 3 (ipykernel)",
   "language": "python",
   "name": "python3"
  },
  "language_info": {
   "codemirror_mode": {
    "name": "ipython",
    "version": 3
   },
   "file_extension": ".py",
   "mimetype": "text/x-python",
   "name": "python",
   "nbconvert_exporter": "python",
   "pygments_lexer": "ipython3",
   "version": "3.8.10"
  }
 },
 "nbformat": 4,
 "nbformat_minor": 5
}
